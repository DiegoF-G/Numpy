{
  "nbformat": 4,
  "nbformat_minor": 0,
  "metadata": {
    "colab": {
      "provenance": [],
      "authorship_tag": "ABX9TyMZn/mjrklEIsx/8LvS5Fjl",
      "include_colab_link": true
    },
    "kernelspec": {
      "name": "python3",
      "display_name": "Python 3"
    },
    "language_info": {
      "name": "python"
    }
  },
  "cells": [
    {
      "cell_type": "markdown",
      "metadata": {
        "id": "view-in-github",
        "colab_type": "text"
      },
      "source": [
        "<a href=\"https://colab.research.google.com/github/DiegoF-G/Numpy/blob/main/numpy2.ipynb\" target=\"_parent\"><img src=\"https://colab.research.google.com/assets/colab-badge.svg\" alt=\"Open In Colab\"/></a>"
      ]
    },
    {
      "cell_type": "markdown",
      "source": [
        "# Selecionando dados"
      ],
      "metadata": {
        "id": "EIvVtrsh-u_F"
      }
    },
    {
      "cell_type": "code",
      "execution_count": 3,
      "metadata": {
        "colab": {
          "base_uri": "https://localhost:8080/"
        },
        "id": "GKYLmaWrcCNO",
        "outputId": "60474dcf-3b2f-4bfa-92ca-cceb7769c381"
      },
      "outputs": [
        {
          "output_type": "stream",
          "name": "stdout",
          "text": [
            "[ 2.96  3.91  4.42 ... 12.55 12.75 12.87]\n",
            "[ 7.63  7.69  7.72 ... 15.59 15.92 16.45]\n",
            "[ 86.76  88.05  95.17 ... 218.07 230.13 231.09]\n",
            "[126.79 133.98 135.56 ... 256.5  260.14 261.51]\n"
          ]
        }
      ],
      "source": [
        "import numpy as np\n",
        "# diametro, peso e cores de laranjas e toranjas\n",
        "url = 'https://raw.githubusercontent.com/allanspadini/numpy/dados/citrus.csv'\n",
        "dados = np.loadtxt(url, delimiter=',', usecols=np.arange(1,6,1), skiprows=1)\n",
        "\n",
        "\"\"\"Selecionando diametro (coluna 0) e peso (coluna 1) das laranjas e toranjas,\n",
        "   da linha 0 a 4999 são laranjas e o restante é das toranjas\"\"\"\n",
        "diameter_orange, weight_orange = dados[:5000, 0], dados[:5000, 1]\n",
        "diameter_grapefruit, weight_grapefruit = dados[5000:, 0], dados[5000:, 1]\n",
        "print(f'{diameter_orange}\\n{diameter_grapefruit}\\n{weight_orange}\\n{weight_grapefruit}')\n"
      ]
    }
  ]
}