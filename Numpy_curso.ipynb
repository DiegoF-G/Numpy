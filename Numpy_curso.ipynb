{
  "nbformat": 4,
  "nbformat_minor": 0,
  "metadata": {
    "colab": {
      "provenance": [],
      "authorship_tag": "ABX9TyMqmFZVSG9OYNCxZmCLQBOG",
      "include_colab_link": true
    },
    "kernelspec": {
      "name": "python3",
      "display_name": "Python 3"
    },
    "language_info": {
      "name": "python"
    }
  },
  "cells": [
    {
      "cell_type": "markdown",
      "metadata": {
        "id": "view-in-github",
        "colab_type": "text"
      },
      "source": [
        "<a href=\"https://colab.research.google.com/github/DiegoF-G/Numpy/blob/main/Numpy_curso.ipynb\" target=\"_parent\"><img src=\"https://colab.research.google.com/assets/colab-badge.svg\" alt=\"Open In Colab\"/></a>"
      ]
    },
    {
      "cell_type": "markdown",
      "source": [
        "#Começando no Numpy...\n"
      ],
      "metadata": {
        "id": "RvxIoPfztj_W"
      }
    },
    {
      "cell_type": "code",
      "source": [
        "import numpy as np"
      ],
      "metadata": {
        "id": "NL8ZCuGHvdAA"
      },
      "execution_count": null,
      "outputs": []
    },
    {
      "cell_type": "markdown",
      "source": [
        "##Função arrange"
      ],
      "metadata": {
        "id": "lUbNoUqlvkq1"
      }
    },
    {
      "cell_type": "code",
      "execution_count": null,
      "metadata": {
        "colab": {
          "base_uri": "https://localhost:8080/"
        },
        "id": "IHUNTyAlQti2",
        "outputId": "ea8526e8-1edd-4951-bf67-aae3ab7f18b8"
      },
      "outputs": [
        {
          "output_type": "stream",
          "name": "stdout",
          "text": [
            "Array dos anos de copa do mundo de 2002 até 2102:\n"
          ]
        },
        {
          "output_type": "execute_result",
          "data": {
            "text/plain": [
              "array([2002, 2006, 2010, 2014, 2018, 2022, 2026, 2030, 2034, 2038, 2042,\n",
              "       2046, 2050, 2054, 2058, 2062, 2066, 2070, 2074, 2078, 2082, 2086,\n",
              "       2090, 2094, 2098, 2102])"
            ]
          },
          "metadata": {},
          "execution_count": 15
        }
      ],
      "source": [
        "ano_inicial, ano_final = 2002, 2102\n",
        "print('Array dos anos de copa do mundo de 2002 até 2102:')\n",
        "np.arange(ano_inicial, ano_final + 1, 4)"
      ]
    },
    {
      "cell_type": "markdown",
      "source": [
        "##Função Array"
      ],
      "metadata": {
        "id": "SUVvSYtmsvaN"
      }
    },
    {
      "cell_type": "code",
      "source": [
        "lista = list(range(1, 11))\n",
        "array = np.array(lista)\n",
        "print(array)"
      ],
      "metadata": {
        "colab": {
          "base_uri": "https://localhost:8080/"
        },
        "id": "EORBDC2hsvlz",
        "outputId": "454f4ec4-0415-439d-b5d8-28fa40d19c9f"
      },
      "execution_count": null,
      "outputs": [
        {
          "output_type": "stream",
          "name": "stdout",
          "text": [
            "[ 1  2  3  4  5  6  7  8  9 10]\n"
          ]
        }
      ]
    },
    {
      "cell_type": "markdown",
      "source": [
        "##Eficiência dos arrays\n",
        "Arrays são mais práticos e rápidos do que listas para tratar de dados homogêneos para realizar operações e ocupam menos memória em geral"
      ],
      "metadata": {
        "id": "QIEquVjPsvNk"
      }
    },
    {
      "cell_type": "code",
      "source": [
        "from time import time\n",
        "lista = list(range(1000000))\n",
        "array = np.array(lista)\n",
        "\n",
        "inicio = time()\n",
        "lista_quadrado = [i**2 for i in lista]\n",
        "tempo_lista = time() - inicio\n",
        "\n",
        "inicio = time()\n",
        "array_quadrado = array**2\n",
        "tempo_array = time() - inicio\n",
        "\n",
        "comparativo = (print(f'Tempo da operação com a lista: {tempo_lista}'), print(f'Tempo da operação com o array: {tempo_array}'))\n"
      ],
      "metadata": {
        "colab": {
          "base_uri": "https://localhost:8080/"
        },
        "id": "OzF128IbwOmz",
        "outputId": "de5fcd8c-6f9b-44fa-dead-706638ce1a96"
      },
      "execution_count": null,
      "outputs": [
        {
          "output_type": "stream",
          "name": "stdout",
          "text": [
            "Tempo da operação com a lista: 0.3343627452850342\n",
            "Tempo da operação com o array: 0.002122163772583008\n"
          ]
        }
      ]
    }
  ]
}